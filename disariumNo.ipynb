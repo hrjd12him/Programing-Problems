{
 "cells": [
  {
   "cell_type": "markdown",
   "metadata": {},
   "source": [
    "In this the given no is equal to the n**1 + n**2 + n**3 + .....................................n**n "
   ]
  },
  {
   "cell_type": "code",
   "execution_count": 1,
   "metadata": {},
   "outputs": [
    {
     "name": "stdout",
     "output_type": "stream",
     "text": [
      "89 IS A DISARIUM\n"
     ]
    }
   ],
   "source": [
    "n=int(input())\n",
    "dummey=n\n",
    "l=len(str(n))\n",
    "summ=0\n",
    "while dummey>0:\n",
    "    rem=dummey%10\n",
    "    summ+=rem**l\n",
    "    dummey//=10\n",
    "    l-=1\n",
    "\n",
    "if n==summ:\n",
    "    print(n,\"IS A DISARIUM\")\n",
    "else:\n",
    "    print(\"its not a DISARIUM\")"
   ]
  },
  {
   "cell_type": "code",
   "execution_count": 3,
   "metadata": {},
   "outputs": [],
   "source": [
    "n1 =int(input())\n",
    "n2 = int(input())\n",
    "\n",
    "for n in range(n1,n2+1):\n",
    "    dummey = n\n",
    "    l = len(str(n))\n",
    "    summ =0\n",
    "    while dummey>0:\n",
    "        rem = dummey%10\n",
    "        summ+=rem**l\n",
    "        dummey//=10\n",
    "        l-=1\n",
    "    if n == summ:\n",
    "        print(n)"
   ]
  },
  {
   "cell_type": "code",
   "execution_count": 1,
   "metadata": {},
   "outputs": [
    {
     "name": "stdout",
     "output_type": "stream",
     "text": [
      "89\n",
      "135\n",
      "175\n"
     ]
    }
   ],
   "source": [
    "def isDisariumNo(n):\n",
    "    dummey = n\n",
    "    l = len(str(n))\n",
    "    summ =0\n",
    "    while dummey>0:\n",
    "        rem = dummey%10\n",
    "        summ+=rem**l\n",
    "        dummey//=10\n",
    "        l-=1\n",
    "    if n == summ:\n",
    "        return True\n",
    "    else: return False\n",
    "\n",
    "def disariumNo(ll, ul):\n",
    "    for i in range(ll,ul):\n",
    "        if isDisariumNo(i):\n",
    "            print(i)\n",
    "\n",
    "disariumNo(50,200)\n"
   ]
  },
  {
   "cell_type": "code",
   "execution_count": 2,
   "metadata": {},
   "outputs": [
    {
     "name": "stdout",
     "output_type": "stream",
     "text": [
      "True\n"
     ]
    }
   ],
   "source": [
    "def isDis(n):\n",
    "    l = len(str(n))\n",
    "    if n == 0:\n",
    "        return 0\n",
    "    return (n%10)**l+isDis(n//10)\n",
    "\n",
    "n = int(input())\n",
    "if n == isDis(n):\n",
    "    print(True)\n",
    "else:print(False)\n"
   ]
  }
 ],
 "metadata": {
  "kernelspec": {
   "display_name": "Python 3",
   "language": "python",
   "name": "python3"
  },
  "language_info": {
   "codemirror_mode": {
    "name": "ipython",
    "version": 3
   },
   "file_extension": ".py",
   "mimetype": "text/x-python",
   "name": "python",
   "nbconvert_exporter": "python",
   "pygments_lexer": "ipython3",
   "version": "3.11.4"
  },
  "orig_nbformat": 4
 },
 "nbformat": 4,
 "nbformat_minor": 2
}
