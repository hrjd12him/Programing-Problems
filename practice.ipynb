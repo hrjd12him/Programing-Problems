{
 "cells": [
  {
   "cell_type": "code",
   "execution_count": 2,
   "metadata": {},
   "outputs": [
    {
     "name": "stdout",
     "output_type": "stream",
     "text": [
      "3\n",
      "7\n",
      "13\n",
      "19\n",
      "29\n",
      "37\n",
      "43\n",
      "53\n",
      "61\n",
      "71\n",
      "79\n",
      "89\n",
      "101\n"
     ]
    }
   ],
   "source": [
    "# print every second prime no\n",
    "n1 = int(input())\n",
    "n2 = int(input())\n",
    "count =1\n",
    "for n in range(n1,n2+1):\n",
    "    if n>1:\n",
    "        for i in range(2,n//2+1):\n",
    "            if n%i ==0:\n",
    "                break\n",
    "        else:\n",
    "            if count%2 == 0:\n",
    "                print(n)\n",
    "            count+=1"
   ]
  },
  {
   "cell_type": "code",
   "execution_count": 3,
   "metadata": {},
   "outputs": [
    {
     "name": "stdout",
     "output_type": "stream",
     "text": [
      "5\n",
      "13\n",
      "23\n",
      "37\n",
      "47\n",
      "61\n",
      "73\n",
      "89\n"
     ]
    }
   ],
   "source": [
    "n1 = int(input())\n",
    "n2 = int(input())\n",
    "count = 1\n",
    "for n in range(n1,n2+1):\n",
    "    if n>1:\n",
    "        for i in range(2,n//2+1):\n",
    "            if n%i == 0:\n",
    "                break\n",
    "        else:\n",
    "            if count%3 == 0:\n",
    "                print(n)\n",
    "            count+=1"
   ]
  },
  {
   "cell_type": "markdown",
   "metadata": {},
   "source": [
    "Question:  given a phone no you need to make its prime no a non prime"
   ]
  },
  {
   "cell_type": "code",
   "execution_count": null,
   "metadata": {},
   "outputs": [],
   "source": [
    "n = int(input()) #7723948536\n",
    "dummey =n\n",
    "\n",
    "while dummey>0:\n",
    "    rem = dummey%10\n",
    "    if rem>1:\n",
    "        for i in range(2,rem//2+1):\n",
    "            if rem%i == 0:\n",
    "                break\n",
    "        \n"
   ]
  },
  {
   "cell_type": "code",
   "execution_count": 35,
   "metadata": {},
   "outputs": [
    {
     "name": "stdout",
     "output_type": "stream",
     "text": [
      "883494864"
     ]
    }
   ],
   "source": [
    "No =int(input())\n",
    "n = [int(ele) for ele in str(No)]\n",
    "l = len(n)\n",
    "for i in range(l):\n",
    "    if n[i]>1:\n",
    "        for j in range(2,n[i]//2+1):\n",
    "            if n[i]%j == 0:\n",
    "                break\n",
    "\n",
    "        else:\n",
    "            n[i] = n[i]+1\n",
    "    print(n[i],end='')"
   ]
  },
  {
   "cell_type": "code",
   "execution_count": 50,
   "metadata": {},
   "outputs": [
    {
     "name": "stdout",
     "output_type": "stream",
     "text": [
      "134466\n"
     ]
    }
   ],
   "source": [
    "No =int(input())\n",
    "n = [str(ele) for ele in str(No)]\n",
    "l = len(n)\n",
    "for i in range(l-1):\n",
    "    if int(n[i])>1:\n",
    "        for j in range(2,int(n[i])//2+1):\n",
    "            if int(n[i])%j == 0:\n",
    "                break\n",
    "\n",
    "        else:\n",
    "            n[i] = str(int(n[i])+1)\n",
    "\n",
    "print(''.join(n))"
   ]
  }
 ],
 "metadata": {
  "kernelspec": {
   "display_name": "Python 3",
   "language": "python",
   "name": "python3"
  },
  "language_info": {
   "codemirror_mode": {
    "name": "ipython",
    "version": 3
   },
   "file_extension": ".py",
   "mimetype": "text/x-python",
   "name": "python",
   "nbconvert_exporter": "python",
   "pygments_lexer": "ipython3",
   "version": "3.11.4"
  },
  "orig_nbformat": 4
 },
 "nbformat": 4,
 "nbformat_minor": 2
}
