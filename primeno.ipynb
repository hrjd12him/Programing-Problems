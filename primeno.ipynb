{
 "cells": [
  {
   "cell_type": "code",
   "execution_count": 4,
   "metadata": {},
   "outputs": [
    {
     "name": "stdout",
     "output_type": "stream",
     "text": [
      "its a prime\n"
     ]
    }
   ],
   "source": [
    "n = int(input())\n",
    "\n",
    "if n>1:\n",
    "    for i in range(2,n//2+1):\n",
    "        if n%2 == 0:\n",
    "            print(\"not a prime\")\n",
    "            break\n",
    "    else:\n",
    "        print(\"its a prime\")\n",
    "        \n"
   ]
  },
  {
   "cell_type": "code",
   "execution_count": null,
   "metadata": {},
   "outputs": [],
   "source": [
    "for n in range(1,101):\n",
    "    if n>1:\n",
    "        for i in range(2,n//2+1):\n",
    "            if n%i == 0:\n",
    "                break\n",
    "        else:\n",
    "            print(n)"
   ]
  },
  {
   "cell_type": "code",
   "execution_count": 7,
   "metadata": {},
   "outputs": [
    {
     "name": "stdout",
     "output_type": "stream",
     "text": [
      "23  Its a prime No\n",
      "29  Its a prime No\n",
      "31  Its a prime No\n",
      "37  Its a prime No\n",
      "41  Its a prime No\n",
      "43  Its a prime No\n",
      "47  Its a prime No\n"
     ]
    }
   ],
   "source": [
    "si = int(input())\n",
    "ei = int(input())\n",
    "\n",
    "for i in range(si,ei+1):\n",
    "    if i>1:\n",
    "        for j in range(2,i//2+1):\n",
    "            if i%j == 0:\n",
    "                break\n",
    "        else:\n",
    "            print(i,\" Its a prime No\")"
   ]
  },
  {
   "cell_type": "code",
   "execution_count": 2,
   "metadata": {},
   "outputs": [
    {
     "name": "stdout",
     "output_type": "stream",
     "text": [
      "its a prime No:  2\n",
      "its a prime No:  3\n",
      "its a prime No:  5\n",
      "its a prime No:  7\n",
      "its a prime No:  11\n",
      "its a prime No:  13\n",
      "its a prime No:  17\n",
      "its a prime No:  19\n"
     ]
    }
   ],
   "source": [
    "def primeNo(n):\n",
    "    if n>1:\n",
    "        for i in range(2,n//2+1):\n",
    "            if n%i == 0:\n",
    "                break\n",
    "        else:\n",
    "            print(\"its a prime No: \",n)\n",
    "\n",
    "n1 = int(input())\n",
    "n2 = int(input())\n",
    "\n",
    "for n in range(n1,n2+1):\n",
    "    primeNo(n)"
   ]
  }
 ],
 "metadata": {
  "kernelspec": {
   "display_name": "Python 3",
   "language": "python",
   "name": "python3"
  },
  "language_info": {
   "codemirror_mode": {
    "name": "ipython",
    "version": 3
   },
   "file_extension": ".py",
   "mimetype": "text/x-python",
   "name": "python",
   "nbconvert_exporter": "python",
   "pygments_lexer": "ipython3",
   "version": "3.11.4"
  },
  "orig_nbformat": 4
 },
 "nbformat": 4,
 "nbformat_minor": 2
}
