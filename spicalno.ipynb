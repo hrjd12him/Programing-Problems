{
 "cells": [
  {
   "cell_type": "markdown",
   "metadata": {},
   "source": [
    "special no & strong no\n",
    "\n",
    "The sum of fact of indivdual no is equal to that no "
   ]
  },
  {
   "cell_type": "code",
   "execution_count": 4,
   "metadata": {},
   "outputs": [
    {
     "name": "stdout",
     "output_type": "stream",
     "text": [
      "3628800\n"
     ]
    }
   ],
   "source": [
    "n = int(input())\n",
    "fact =1\n",
    "for i in range(1,n+1):\n",
    "    fact*=i\n",
    "print(fact)"
   ]
  },
  {
   "cell_type": "code",
   "execution_count": 9,
   "metadata": {},
   "outputs": [
    {
     "name": "stdout",
     "output_type": "stream",
     "text": [
      "its an Spical no\n"
     ]
    }
   ],
   "source": [
    "n = int(input())\n",
    "dummey = n\n",
    "sum = 0\n",
    "while dummey>0:\n",
    "    rem = dummey%10\n",
    "    dummey//=10\n",
    "    fact =1\n",
    "    for i in range(1,rem+1):\n",
    "        fact*=i\n",
    "    sum+=fact\n",
    "    \n",
    "if sum == n:\n",
    "    print(\"its an Spical no\")"
   ]
  },
  {
   "cell_type": "code",
   "execution_count": 1,
   "metadata": {},
   "outputs": [
    {
     "name": "stdout",
     "output_type": "stream",
     "text": [
      "145 is an strong No\n"
     ]
    }
   ],
   "source": [
    "def isStrong(n):\n",
    "    dummey = n\n",
    "    sum = 0\n",
    "    while dummey>0:\n",
    "        rem = dummey%10\n",
    "        fac =1\n",
    "        for i in range(1,rem+1):\n",
    "            fac*=i\n",
    "        sum+=fac\n",
    "        dummey//=10\n",
    "    return sum\n",
    "\n",
    "def strongNo(ll,ul):\n",
    "    for i in range(ll,ul+1):\n",
    "        if i == isStrong(i):\n",
    "            print(i ,'is an strong No')\n",
    "\n",
    "strongNo(10,10000)"
   ]
  }
 ],
 "metadata": {
  "kernelspec": {
   "display_name": "Python 3",
   "language": "python",
   "name": "python3"
  },
  "language_info": {
   "codemirror_mode": {
    "name": "ipython",
    "version": 3
   },
   "file_extension": ".py",
   "mimetype": "text/x-python",
   "name": "python",
   "nbconvert_exporter": "python",
   "pygments_lexer": "ipython3",
   "version": "3.11.4"
  },
  "orig_nbformat": 4
 },
 "nbformat": 4,
 "nbformat_minor": 2
}
