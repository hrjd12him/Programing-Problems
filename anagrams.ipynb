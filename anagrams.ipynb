{
 "cells": [
  {
   "cell_type": "code",
   "execution_count": 1,
   "metadata": {},
   "outputs": [
    {
     "name": "stdout",
     "output_type": "stream",
     "text": [
      "The two strings are anagrams\n"
     ]
    }
   ],
   "source": [
    "input1 = input(\"enter a string: \")\n",
    "input2 = input(\"enter a string: \")\n",
    "\n",
    "if sorted(input1.upper()) == sorted(input2.upper()):\n",
    "    print (\"The two strings are anagrams\")\n",
    "else:\n",
    "    print (\"the two strings aren't anagrams\")"
   ]
  }
 ],
 "metadata": {
  "kernelspec": {
   "display_name": "Python 3",
   "language": "python",
   "name": "python3"
  },
  "language_info": {
   "codemirror_mode": {
    "name": "ipython",
    "version": 3
   },
   "file_extension": ".py",
   "mimetype": "text/x-python",
   "name": "python",
   "nbconvert_exporter": "python",
   "pygments_lexer": "ipython3",
   "version": "3.11.4"
  },
  "orig_nbformat": 4
 },
 "nbformat": 4,
 "nbformat_minor": 2
}
