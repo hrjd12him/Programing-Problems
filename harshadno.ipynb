{
 "cells": [
  {
   "cell_type": "code",
   "execution_count": 4,
   "metadata": {},
   "outputs": [
    {
     "name": "stdout",
     "output_type": "stream",
     "text": [
      "its an harshad no\n"
     ]
    }
   ],
   "source": [
    "n = int(input(\"Enter a no: \"))\n",
    "sum =0\n",
    "dummey = n\n",
    "while dummey>0:\n",
    "    rem = dummey%10\n",
    "    sum+=rem\n",
    "    dummey= dummey//10\n",
    "\n",
    "if n%sum == 0:\n",
    "    print(\"its an harshad no\")\n",
    "else:\n",
    "    print(\"its not a harshad no\")\n",
    "\n"
   ]
  },
  {
   "cell_type": "code",
   "execution_count": null,
   "metadata": {},
   "outputs": [],
   "source": [
    "n = int(input())\n",
    "for i in range(50,n+1):\n",
    "    dummey = i\n",
    "    sum =0\n",
    "    while dummey>0:\n",
    "        sum+=dummey%10\n",
    "        dummey = dummey // 10\n",
    "\n",
    "    if i%sum ==0:\n",
    "        print(i,\" is a harshad no or(nieve no)\")\n",
    "        "
   ]
  },
  {
   "cell_type": "code",
   "execution_count": 3,
   "metadata": {},
   "outputs": [
    {
     "name": "stdout",
     "output_type": "stream",
     "text": [
      "Yes\n",
      "No\n"
     ]
    }
   ],
   "source": [
    "\n",
    "def checkHarshad( n ) :\n",
    "\tsum = 0\n",
    "\ttemp = n\n",
    "\twhile temp > 0 :\n",
    "\t\tsum = sum + temp % 10\n",
    "\t\ttemp = temp // 10\n",
    "\treturn n % sum == 0\n",
    "\n",
    "if(checkHarshad(12)) : print(\"Yes\")\n",
    "else : print (\"No\")\n",
    "\n",
    "if (checkHarshad(15)) : print(\"Yes\")\n",
    "else : print (\"No\")\n",
    "\t\n"
   ]
  },
  {
   "cell_type": "code",
   "execution_count": 2,
   "metadata": {},
   "outputs": [
    {
     "name": "stdout",
     "output_type": "stream",
     "text": [
      "False\n"
     ]
    }
   ],
   "source": [
    "def sumdigit(n):\n",
    "    if n == 0 :\n",
    "        return 0\n",
    "    return n%10+sumdigit(n//10)\n",
    "\n",
    "n = int(input())\n",
    "if n%sumdigit(n) == 0:\n",
    "    print(True)\n",
    "else:print(False)"
   ]
  }
 ],
 "metadata": {
  "kernelspec": {
   "display_name": "Python 3",
   "language": "python",
   "name": "python3"
  },
  "language_info": {
   "codemirror_mode": {
    "name": "ipython",
    "version": 3
   },
   "file_extension": ".py",
   "mimetype": "text/x-python",
   "name": "python",
   "nbconvert_exporter": "python",
   "pygments_lexer": "ipython3",
   "version": "3.11.4"
  },
  "orig_nbformat": 4
 },
 "nbformat": 4,
 "nbformat_minor": 2
}
