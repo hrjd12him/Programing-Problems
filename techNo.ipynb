{
 "cells": [
  {
   "cell_type": "code",
   "execution_count": 2,
   "metadata": {},
   "outputs": [
    {
     "name": "stdout",
     "output_type": "stream",
     "text": [
      "2025 Its a tech no\n",
      "3025 Its a tech no\n",
      "9801 Its a tech no\n"
     ]
    }
   ],
   "source": [
    "def istech(n):\n",
    "    dummey = n\n",
    "    l = len(str(n))//2\n",
    "    add = 0\n",
    "    while dummey>0:\n",
    "        rem = dummey%(10**l)\n",
    "        add+=rem\n",
    "        dummey//=(10**l)\n",
    "\n",
    "    return add**2\n",
    "def techNo(ll,ul):\n",
    "    for i in range(ll,ul+1):\n",
    "        if i == istech(i):\n",
    "            print(i,'Its a tech no')\n",
    "\n",
    "techNo(1000,30000)"
   ]
  }
 ],
 "metadata": {
  "kernelspec": {
   "display_name": "Python 3",
   "language": "python",
   "name": "python3"
  },
  "language_info": {
   "codemirror_mode": {
    "name": "ipython",
    "version": 3
   },
   "file_extension": ".py",
   "mimetype": "text/x-python",
   "name": "python",
   "nbconvert_exporter": "python",
   "pygments_lexer": "ipython3",
   "version": "3.11.4"
  },
  "orig_nbformat": 4
 },
 "nbformat": 4,
 "nbformat_minor": 2
}
