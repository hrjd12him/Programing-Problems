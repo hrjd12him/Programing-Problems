{
 "cells": [
  {
   "cell_type": "code",
   "execution_count": 7,
   "metadata": {},
   "outputs": [
    {
     "name": "stdout",
     "output_type": "stream",
     "text": [
      "Armstrong\n"
     ]
    }
   ],
   "source": [
    "n = int(input())\n",
    "dummey = n\n",
    "l =len(str(n))\n",
    "sum = 0\n",
    "while dummey>0:\n",
    "    rem = dummey%10\n",
    "    sum+=rem**l\n",
    "    dummey//=10\n",
    "\n",
    "if sum == n:\n",
    "    print(\"Armstrong\")\n",
    "else:\n",
    "    print('Not Armstrong')\n",
    "\n",
    "\n"
   ]
  },
  {
   "cell_type": "code",
   "execution_count": 9,
   "metadata": {},
   "outputs": [
    {
     "name": "stdout",
     "output_type": "stream",
     "text": [
      "153\n",
      "370\n",
      "371\n",
      "407\n",
      "1634\n",
      "8208\n",
      "9474\n"
     ]
    }
   ],
   "source": [
    "n1 = int(input())\n",
    "n2 = int(input())\n",
    "\n",
    "for n in range(n1,n2+1):\n",
    "    dummey = n\n",
    "    l=len(str(n))\n",
    "    sum=0\n",
    "    while dummey>0:\n",
    "        rem = dummey%10\n",
    "        sum+=rem**l\n",
    "        dummey//=10\n",
    "    if sum == n:\n",
    "        print(n) \n",
    "\n"
   ]
  },
  {
   "cell_type": "code",
   "execution_count": 2,
   "metadata": {},
   "outputs": [
    {
     "name": "stdout",
     "output_type": "stream",
     "text": [
      "153\n",
      "370\n",
      "371\n",
      "407\n"
     ]
    }
   ],
   "source": [
    "def isArmstrong(n):\n",
    "    dummey = n\n",
    "    sum = 0\n",
    "    l = len(str(n))\n",
    "    while dummey>0:\n",
    "        rem = dummey%10\n",
    "        sum+=rem**l\n",
    "        dummey//=10\n",
    "    if sum == n:\n",
    "        return True\n",
    "    else:\n",
    "        return False\n",
    "    \n",
    "def armastrongNo(ll,UL):\n",
    "    for i in range(ll,UL+1):\n",
    "        if isArmstrong(i):\n",
    "            print(i)\n",
    "armastrongNo(100,500)\n",
    "\n"
   ]
  },
  {
   "cell_type": "code",
   "execution_count": 14,
   "metadata": {},
   "outputs": [
    {
     "name": "stdout",
     "output_type": "stream",
     "text": [
      "True\n"
     ]
    }
   ],
   "source": [
    "def isArm(n,l):\n",
    "    if n == 0 :\n",
    "        return 0\n",
    "    return (n%10)**l+isArm(n//10,l)\n",
    "\n",
    "n =int(input())\n",
    "l = len(str(n))\n",
    "if n == isArm(n,l):\n",
    "    print(True)\n",
    "else:print(False)\n",
    "\n"
   ]
  },
  {
   "cell_type": "code",
   "execution_count": null,
   "metadata": {},
   "outputs": [],
   "source": []
  }
 ],
 "metadata": {
  "kernelspec": {
   "display_name": "Python 3",
   "language": "python",
   "name": "python3"
  },
  "language_info": {
   "codemirror_mode": {
    "name": "ipython",
    "version": 3
   },
   "file_extension": ".py",
   "mimetype": "text/x-python",
   "name": "python",
   "nbconvert_exporter": "python",
   "pygments_lexer": "ipython3",
   "version": "3.11.4"
  },
  "orig_nbformat": 4
 },
 "nbformat": 4,
 "nbformat_minor": 2
}
