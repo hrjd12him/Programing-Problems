{
 "cells": [
  {
   "cell_type": "code",
   "execution_count": 4,
   "metadata": {},
   "outputs": [
    {
     "name": "stdout",
     "output_type": "stream",
     "text": [
      "321\n"
     ]
    }
   ],
   "source": [
    "n = int(input())\n",
    "dummey = n\n",
    "rev = 0\n",
    "while dummey>0:\n",
    "    rem = dummey%10\n",
    "    rev = rev*10+rem\n",
    "    dummey//=10\n",
    "\n",
    "print(rev)\n",
    "\n"
   ]
  },
  {
   "cell_type": "code",
   "execution_count": null,
   "metadata": {},
   "outputs": [],
   "source": [
    "n=int(input(\"enter a no: \"))\n",
    "dummey=n\n",
    "while dummey!=0:\n",
    "    print(dummey%10,end=\"\")\n",
    "    dummey=dummey//10"
   ]
  },
  {
   "cell_type": "code",
   "execution_count": 1,
   "metadata": {},
   "outputs": [
    {
     "data": {
      "text/plain": [
       "321"
      ]
     },
     "execution_count": 1,
     "metadata": {},
     "output_type": "execute_result"
    }
   ],
   "source": [
    "def isRev(n):\n",
    "    l = len(str(n))-1\n",
    "    if n == 0:\n",
    "        return 0\n",
    "    return (n%10)*(10**l)+isRev(n//10)\n",
    "\n",
    "n = int(input())\n",
    "isRev(n)"
   ]
  }
 ],
 "metadata": {
  "kernelspec": {
   "display_name": "Python 3",
   "language": "python",
   "name": "python3"
  },
  "language_info": {
   "codemirror_mode": {
    "name": "ipython",
    "version": 3
   },
   "file_extension": ".py",
   "mimetype": "text/x-python",
   "name": "python",
   "nbconvert_exporter": "python",
   "pygments_lexer": "ipython3",
   "version": "3.11.4"
  },
  "orig_nbformat": 4
 },
 "nbformat": 4,
 "nbformat_minor": 2
}
