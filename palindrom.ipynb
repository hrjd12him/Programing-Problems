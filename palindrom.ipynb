{
 "cells": [
  {
   "cell_type": "code",
   "execution_count": null,
   "metadata": {},
   "outputs": [],
   "source": [
    "n = int(input())\n",
    "dummey=n\n",
    "rev = 0\n",
    "while dummey>0:\n",
    "    rev = rev*10+dummey%10\n",
    "    dummey//=10\n",
    "\n",
    "if n  == rev:\n",
    "    print(\"its an palindrom no\")\n",
    "else:\n",
    "    print('not a palindrome')"
   ]
  },
  {
   "cell_type": "code",
   "execution_count": 1,
   "metadata": {},
   "outputs": [
    {
     "name": "stdout",
     "output_type": "stream",
     "text": [
      "99\n",
      "101\n",
      "111\n",
      "121\n"
     ]
    }
   ],
   "source": [
    "def isReverse(n):\n",
    "    dummey = n\n",
    "    rev= 0\n",
    "    while dummey>0:\n",
    "        rev = rev*10+dummey%10\n",
    "        dummey//=10\n",
    "    return rev\n",
    "\n",
    "def palindrom(ll,ul):\n",
    "    for i in range(ll,ul+1):\n",
    "        if i == isReverse(i):\n",
    "            print(i)\n",
    "\n",
    "palindrom(99,123)"
   ]
  },
  {
   "cell_type": "code",
   "execution_count": 1,
   "metadata": {},
   "outputs": [
    {
     "name": "stdout",
     "output_type": "stream",
     "text": [
      "Its palindrom\n"
     ]
    }
   ],
   "source": [
    "def isRev(n):\n",
    "    l = len(str(n))-1\n",
    "    if n == 0:\n",
    "        return 0\n",
    "    return (n%10)*(10**l)+isRev(n//10)\n",
    "\n",
    "n = int(input())\n",
    "if n == isRev(n):\n",
    "    print('Its palindrom')\n",
    "else:print('its not')"
   ]
  }
 ],
 "metadata": {
  "kernelspec": {
   "display_name": "Python 3",
   "language": "python",
   "name": "python3"
  },
  "language_info": {
   "codemirror_mode": {
    "name": "ipython",
    "version": 3
   },
   "file_extension": ".py",
   "mimetype": "text/x-python",
   "name": "python",
   "nbconvert_exporter": "python",
   "pygments_lexer": "ipython3",
   "version": "3.11.4"
  },
  "orig_nbformat": 4
 },
 "nbformat": 4,
 "nbformat_minor": 2
}
