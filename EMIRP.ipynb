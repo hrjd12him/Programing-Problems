{
 "cells": [
  {
   "cell_type": "markdown",
   "metadata": {},
   "source": [
    "# EMIRP\n",
    "* It should not be a palindrom no\n",
    "* Number should be prime \n",
    "* Reverse of the given no should be prime "
   ]
  },
  {
   "cell_type": "code",
   "execution_count": null,
   "metadata": {},
   "outputs": [],
   "source": [
    "n = int(input())\n",
    "dummy = n\n",
    "rev = 0\n",
    "\n",
    "while dummy > 0:\n",
    "    rem = dummy % 10\n",
    "    rev = rev * 10 + rem\n",
    "    dummy //= 10\n",
    "\n",
    "if n == rev:\n",
    "    print(\"N is not an Emirp\")\n",
    "else:\n",
    "    is_prime = True\n",
    "    for i in range(2, n // 2 + 1):\n",
    "        if n % i == 0:\n",
    "            is_prime = False\n",
    "            break\n",
    "\n",
    "    if is_prime:\n",
    "        is_emirp = True\n",
    "        for j in range(2, rev // 2 + 1):\n",
    "            if rev % j == 0:\n",
    "                is_emirp = False\n",
    "                break\n",
    "        if is_emirp:\n",
    "            print(\"It's an EMIRP number\")\n",
    "        else:\n",
    "            print(\"It's not an EMIRP number\")\n",
    "    else:\n",
    "        print(\"It's not an EMIRP number\")\n"
   ]
  },
  {
   "cell_type": "code",
   "execution_count": 1,
   "metadata": {},
   "outputs": [
    {
     "name": "stdout",
     "output_type": "stream",
     "text": [
      "Its a EMIRP\n"
     ]
    }
   ],
   "source": [
    "def reverse(n):\n",
    "    dummey = n\n",
    "    rev = 0\n",
    "    while dummey>0:\n",
    "        rem = dummey%10\n",
    "        rev = rev*10+rem\n",
    "        dummey//=10\n",
    "\n",
    "    return rev\n",
    "\n",
    "def primeno(n):\n",
    "    if n>0:\n",
    "        for i in range(2,n//2+1):\n",
    "            if n%i == 0:\n",
    "                break\n",
    "        else:\n",
    "            return n\n",
    "    return -1 \n",
    "\n",
    "n = int(input())\n",
    "rev = reverse(n)\n",
    "if n == reverse(n):\n",
    "    print(\"n is not a EMIRP\")\n",
    "else:\n",
    "    if primeno(n) == -1:\n",
    "        print(\"n is not a EMIRP\")\n",
    "    else:\n",
    "        if primeno(rev) == -1:\n",
    "            print(\"n is not a EMIRP\")\n",
    "        else:\n",
    "            print(\"Its a EMIRP\")"
   ]
  },
  {
   "cell_type": "code",
   "execution_count": 2,
   "metadata": {},
   "outputs": [
    {
     "name": "stdout",
     "output_type": "stream",
     "text": [
      "True\n"
     ]
    }
   ],
   "source": [
    "def isEmirp(n):\n",
    "    rev = reverse(n)\n",
    "    if primeno(n)!=-1 and primeno(rev)!=-1 and n!= rev:\n",
    "        return True\n",
    "    else: return False\n",
    "\n",
    "n = int(input())\n",
    "print(isEmirp(n))"
   ]
  }
 ],
 "metadata": {
  "kernelspec": {
   "display_name": "Python 3",
   "language": "python",
   "name": "python3"
  },
  "language_info": {
   "codemirror_mode": {
    "name": "ipython",
    "version": 3
   },
   "file_extension": ".py",
   "mimetype": "text/x-python",
   "name": "python",
   "nbconvert_exporter": "python",
   "pygments_lexer": "ipython3",
   "version": "3.11.4"
  },
  "orig_nbformat": 4
 },
 "nbformat": 4,
 "nbformat_minor": 2
}
