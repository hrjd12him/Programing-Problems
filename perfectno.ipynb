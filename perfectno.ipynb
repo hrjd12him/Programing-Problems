{
 "cells": [
  {
   "cell_type": "markdown",
   "metadata": {},
   "source": [
    "The sum of its divisers should be equal to that no\n",
    "is known as perfect No"
   ]
  },
  {
   "cell_type": "code",
   "execution_count": 4,
   "metadata": {},
   "outputs": [
    {
     "name": "stdout",
     "output_type": "stream",
     "text": [
      "28 its a perfect No\n"
     ]
    }
   ],
   "source": [
    "n = int(input())\n",
    "count = 0\n",
    "for i in range(1,n//2+1):\n",
    "    if n%i == 0:\n",
    "        count+=i\n",
    "        \n",
    "if count == n:\n",
    "    print(n,\"its a perfect No\")\n"
   ]
  },
  {
   "cell_type": "code",
   "execution_count": 9,
   "metadata": {},
   "outputs": [
    {
     "name": "stdout",
     "output_type": "stream",
     "text": [
      "6 its an perfect no\n",
      "28 its an perfect no\n"
     ]
    }
   ],
   "source": [
    "si = int(input())\n",
    "ei = int(input())\n",
    "\n",
    "for n in range(si,ei+1):\n",
    "    count = 0\n",
    "    for i in range(1,n//2+1):\n",
    "        if n%i == 0:\n",
    "            count+=i\n",
    "    if n == count:\n",
    "        print(n,\"its an perfect no\")\n"
   ]
  },
  {
   "cell_type": "code",
   "execution_count": 4,
   "metadata": {},
   "outputs": [
    {
     "name": "stdout",
     "output_type": "stream",
     "text": [
      "6 Its an perfect no\n",
      "28 Its an perfect no\n"
     ]
    }
   ],
   "source": [
    "def isPerfect(n):\n",
    "    add = 0\n",
    "    if n == 0:\n",
    "        return\n",
    "    for i in range(1,n//2+1):\n",
    "        if n%i == 0:\n",
    "            add+=i\n",
    "    return add\n",
    "\n",
    "def perfectNo(ll,ul):\n",
    "    for i in range(ll,ul+1):\n",
    "        if i == isPerfect(i):\n",
    "            print(i,'Its an perfect no')\n",
    "\n",
    "perfectNo(0,100)"
   ]
  },
  {
   "cell_type": "code",
   "execution_count": null,
   "metadata": {},
   "outputs": [],
   "source": [
    "def perfect(n):\n",
    "    if n == 1:\n",
    "        return 0\n",
    "    return n//2+perfect()\n",
    "perfect(6)"
   ]
  }
 ],
 "metadata": {
  "kernelspec": {
   "display_name": "Python 3",
   "language": "python",
   "name": "python3"
  },
  "language_info": {
   "codemirror_mode": {
    "name": "ipython",
    "version": 3
   },
   "file_extension": ".py",
   "mimetype": "text/x-python",
   "name": "python",
   "nbconvert_exporter": "python",
   "pygments_lexer": "ipython3",
   "version": "3.11.4"
  },
  "orig_nbformat": 4
 },
 "nbformat": 4,
 "nbformat_minor": 2
}
